{
 "cells": [
  {
   "cell_type": "markdown",
   "metadata": {},
   "source": [
    "### Handle empty lines"
   ]
  },
  {
   "cell_type": "code",
   "execution_count": 2,
   "metadata": {},
   "outputs": [
    {
     "data": {
      "text/plain": [
       "67-element Vector{String}:\n",
       " \"It is a truth universally ackno\" ⋯ 55 bytes ⋯ \"une, must be in want of a wife.\"\n",
       " \"\"\n",
       " \"However little known the feelin\" ⋯ 199 bytes ⋯ \"e or other of their daughters.\"\n",
       " \"\"\n",
       " \"“My dear Mr. Bennet,” said his \" ⋯ 46 bytes ⋯ \"therfield Park is let at last?”\"\n",
       " \"\"\n",
       " \"Mr. Bennet replied that he had not.\"\n",
       " \"\"\n",
       " \"“But it is,” returned she; “for\" ⋯ 30 bytes ⋯ \" and she told me all about it.”\"\n",
       " \"\"\n",
       " \"Mr. Bennet made no answer.\"\n",
       " \"\"\n",
       " \"“Do not you want to know who has taken it?” cried his wife impatiently.\"\n",
       " ⋮\n",
       " \"\"\n",
       " \"“You mistake me, my dear. I hav\" ⋯ 107 bytes ⋯ \" these twenty years at least.”\"\n",
       " \"\"\n",
       " \"“Ah, you do not know what I suffer.”\"\n",
       " \"\"\n",
       " \"“But I hope you will get over i\" ⋯ 56 bytes ⋯ \"r come into the neighbourhood.”\"\n",
       " \"\"\n",
       " \"“It will be no use to us, if tw\" ⋯ 23 bytes ⋯ \"since you will not visit them.”\"\n",
       " \"\"\n",
       " \"“Depend upon it, my dear, that when there are twenty, I will visit them all.”\"\n",
       " \"\"\n",
       " \"Mr. Bennet was so odd a mixture\" ⋯ 407 bytes ⋯ \" solace was visiting and news.\""
      ]
     },
     "execution_count": 2,
     "metadata": {},
     "output_type": "execute_result"
    }
   ],
   "source": [
    "file = open(\"p&p.txt\")\n",
    "pride_prejudice = readlines(file)"
   ]
  },
  {
   "cell_type": "markdown",
   "metadata": {},
   "source": [
    "Filter the empty lines."
   ]
  },
  {
   "cell_type": "code",
   "execution_count": 7,
   "metadata": {},
   "outputs": [
    {
     "data": {
      "text/plain": [
       "34-element Vector{String}:\n",
       " \"It is a truth universally ackno\" ⋯ 55 bytes ⋯ \"une, must be in want of a wife.\"\n",
       " \"However little known the feelin\" ⋯ 199 bytes ⋯ \"e or other of their daughters.\"\n",
       " \"“My dear Mr. Bennet,” said his \" ⋯ 46 bytes ⋯ \"therfield Park is let at last?”\"\n",
       " \"Mr. Bennet replied that he had not.\"\n",
       " \"“But it is,” returned she; “for\" ⋯ 30 bytes ⋯ \" and she told me all about it.”\"\n",
       " \"Mr. Bennet made no answer.\"\n",
       " \"“Do not you want to know who has taken it?” cried his wife impatiently.\"\n",
       " \"“You want to tell me, and I have no objection to hearing it.”\"\n",
       " \"This was invitation enough.\"\n",
       " \"“Why, my dear, you must know, M\" ⋯ 336 bytes ⋯ \"ouse by the end of next week.”\"\n",
       " \"“What is his name?”\"\n",
       " \"“Bingley.”\"\n",
       " \"“Is he married or single?”\"\n",
       " ⋮\n",
       " \"“It is more than I engage for, I assure you.”\"\n",
       " \"“But consider your daughters. O\" ⋯ 237 bytes ⋯ \" to visit him, if you do not.”\"\n",
       " \"“You are over scrupulous, surel\" ⋯ 203 bytes ⋯ \"ood word for my little Lizzy.”\"\n",
       " \"“I desire you will do no such t\" ⋯ 152 bytes ⋯ \"ys giving her the preference.”\"\n",
       " \"“They have none of them much to\" ⋯ 115 bytes ⋯ \"f quickness than her sisters.”\"\n",
       " \"“Mr. Bennet, how can you abuse \" ⋯ 75 bytes ⋯ \" compassion on my poor nerves.”\"\n",
       " \"“You mistake me, my dear. I hav\" ⋯ 107 bytes ⋯ \" these twenty years at least.”\"\n",
       " \"“Ah, you do not know what I suffer.”\"\n",
       " \"“But I hope you will get over i\" ⋯ 56 bytes ⋯ \"r come into the neighbourhood.”\"\n",
       " \"“It will be no use to us, if tw\" ⋯ 23 bytes ⋯ \"since you will not visit them.”\"\n",
       " \"“Depend upon it, my dear, that when there are twenty, I will visit them all.”\"\n",
       " \"Mr. Bennet was so odd a mixture\" ⋯ 407 bytes ⋯ \" solace was visiting and news.\""
      ]
     },
     "execution_count": 7,
     "metadata": {},
     "output_type": "execute_result"
    }
   ],
   "source": [
    "trimmed = filter!(x -> !(x == \"\"), pride_prejudice)\n",
    "\n",
    "# filter!(x -> !isempty(x), pride_prejudice)"
   ]
  },
  {
   "cell_type": "markdown",
   "metadata": {},
   "source": [
    "### Depunctuate"
   ]
  },
  {
   "cell_type": "markdown",
   "metadata": {},
   "source": [
    "##### Depunctuate a single line."
   ]
  },
  {
   "cell_type": "code",
   "execution_count": 15,
   "metadata": {},
   "outputs": [
    {
     "data": {
      "text/plain": [
       "\"It is a truth universally acknowledged, that a single man in possession of a good fortune, must be in want of a wife.\""
      ]
     },
     "execution_count": 15,
     "metadata": {},
     "output_type": "execute_result"
    }
   ],
   "source": [
    "sampleline = pride_prejudice[1]"
   ]
  },
  {
   "cell_type": "code",
   "execution_count": 16,
   "metadata": {},
   "outputs": [
    {
     "data": {
      "text/plain": [
       "117-element Vector{Char}:\n",
       " 'I': ASCII/Unicode U+0049 (category Lu: Letter, uppercase)\n",
       " 't': ASCII/Unicode U+0074 (category Ll: Letter, lowercase)\n",
       " ' ': ASCII/Unicode U+0020 (category Zs: Separator, space)\n",
       " 'i': ASCII/Unicode U+0069 (category Ll: Letter, lowercase)\n",
       " 's': ASCII/Unicode U+0073 (category Ll: Letter, lowercase)\n",
       " ' ': ASCII/Unicode U+0020 (category Zs: Separator, space)\n",
       " 'a': ASCII/Unicode U+0061 (category Ll: Letter, lowercase)\n",
       " ' ': ASCII/Unicode U+0020 (category Zs: Separator, space)\n",
       " 't': ASCII/Unicode U+0074 (category Ll: Letter, lowercase)\n",
       " 'r': ASCII/Unicode U+0072 (category Ll: Letter, lowercase)\n",
       " 'u': ASCII/Unicode U+0075 (category Ll: Letter, lowercase)\n",
       " 't': ASCII/Unicode U+0074 (category Ll: Letter, lowercase)\n",
       " 'h': ASCII/Unicode U+0068 (category Ll: Letter, lowercase)\n",
       " ⋮\n",
       " 't': ASCII/Unicode U+0074 (category Ll: Letter, lowercase)\n",
       " ' ': ASCII/Unicode U+0020 (category Zs: Separator, space)\n",
       " 'o': ASCII/Unicode U+006F (category Ll: Letter, lowercase)\n",
       " 'f': ASCII/Unicode U+0066 (category Ll: Letter, lowercase)\n",
       " ' ': ASCII/Unicode U+0020 (category Zs: Separator, space)\n",
       " 'a': ASCII/Unicode U+0061 (category Ll: Letter, lowercase)\n",
       " ' ': ASCII/Unicode U+0020 (category Zs: Separator, space)\n",
       " 'w': ASCII/Unicode U+0077 (category Ll: Letter, lowercase)\n",
       " 'i': ASCII/Unicode U+0069 (category Ll: Letter, lowercase)\n",
       " 'f': ASCII/Unicode U+0066 (category Ll: Letter, lowercase)\n",
       " 'e': ASCII/Unicode U+0065 (category Ll: Letter, lowercase)\n",
       " '.': ASCII/Unicode U+002E (category Po: Punctuation, other)"
      ]
     },
     "execution_count": 16,
     "metadata": {},
     "output_type": "execute_result"
    }
   ],
   "source": [
    "samplechar = [i for i in sampleline]"
   ]
  },
  {
   "cell_type": "markdown",
   "metadata": {},
   "source": [
    "Removing ```fullstop```,  ```comma```, ```semicolon``` and ```quotes```. "
   ]
  },
  {
   "cell_type": "code",
   "execution_count": 71,
   "metadata": {},
   "outputs": [
    {
     "data": {
      "text/plain": [
       "\"It is a truth universally acknowledged that a single man in possession of a good fortune must be in want of a wife\""
      ]
     },
     "execution_count": 71,
     "metadata": {},
     "output_type": "execute_result"
    }
   ],
   "source": [
    "join(filter!(x -> !(x == '.' || x == ',' || x == ';' || x == '\\u201c' || x == '\\u201d'), samplechar))"
   ]
  },
  {
   "cell_type": "markdown",
   "metadata": {},
   "source": [
    "##### Scale it to the whole text."
   ]
  },
  {
   "cell_type": "code",
   "execution_count": 60,
   "metadata": {},
   "outputs": [],
   "source": [
    "depunctuated_pp = []\n",
    "\n",
    "for i in 1:length(trimmed)\n",
    "    line = pride_prejudice[i]\n",
    "    char = [j for j in line]\n",
    "    depunced_lines = join(filter!(x -> !(x == '.' || x == ',' || x == ';' || x == '\\u201c' || x == '\\u201d' || x == '?' || x == ':'  || x == '?' || x == '!' || x == '-' || x == '\"' || x == '''), char))\n",
    "    push!(depunctuated_pp, depunced_lines)\n",
    "end"
   ]
  },
  {
   "cell_type": "code",
   "execution_count": 61,
   "metadata": {},
   "outputs": [
    {
     "data": {
      "text/plain": [
       "34-element Vector{Any}:\n",
       " \"It is a truth universally ackno\" ⋯ 52 bytes ⋯ \"rtune must be in want of a wife\"\n",
       " \"However little known the feelin\" ⋯ 196 bytes ⋯ \"ne or other of their daughters\"\n",
       " \"My dear Mr Bennet said his lady\" ⋯ 36 bytes ⋯ \"Netherfield Park is let at last\"\n",
       " \"Mr Bennet replied that he had not\"\n",
       " \"But it is returned she for Mrs \" ⋯ 21 bytes ⋯ \"re and she told me all about it\"\n",
       " \"Mr Bennet made no answer\"\n",
       " \"Do not you want to know who has taken it cried his wife impatiently\"\n",
       " \"You want to tell me and I have no objection to hearing it\"\n",
       " \"This was invitation enough\"\n",
       " \"Why my dear you must know Mrs L\" ⋯ 324 bytes ⋯ \" house by the end of next week\"\n",
       " \"What is his name\"\n",
       " \"Bingley\"\n",
       " \"Is he married or single\"\n",
       " ⋮\n",
       " \"It is more than I engage for I assure you\"\n",
       " \"But consider your daughters Onl\" ⋯ 225 bytes ⋯ \" us to visit him if you do not\"\n",
       " \"You are over scrupulous surely \" ⋯ 195 bytes ⋯ \" good word for my little Lizzy\"\n",
       " \"I desire you will do no such th\" ⋯ 144 bytes ⋯ \"ways giving her the preference\"\n",
       " \"They have none of them much to \" ⋯ 103 bytes ⋯ \" of quickness than her sisters\"\n",
       " \"Mr Bennet how can you abuse you\" ⋯ 68 bytes ⋯ \"no compassion on my poor nerves\"\n",
       " \"You mistake me my dear I have a\" ⋯ 99 bytes ⋯ \"ion these twenty years at least\"\n",
       " \"Ah you do not know what I suffer\"\n",
       " \"But I hope you will get over it\" ⋯ 52 bytes ⋯ \"ear come into the neighbourhood\"\n",
       " \"It will be no use to us if twen\" ⋯ 18 bytes ⋯ \"e since you will not visit them\"\n",
       " \"Depend upon it my dear that when there are twenty I will visit them all\"\n",
       " \"Mr Bennet was so odd a mixture \" ⋯ 391 bytes ⋯ \"s solace was visiting and news\""
      ]
     },
     "execution_count": 61,
     "metadata": {},
     "output_type": "execute_result"
    }
   ],
   "source": [
    "depunctuated_pp"
   ]
  },
  {
   "cell_type": "markdown",
   "metadata": {},
   "source": [
    "### Array of strings into array of words"
   ]
  },
  {
   "cell_type": "code",
   "execution_count": 62,
   "metadata": {},
   "outputs": [],
   "source": [
    "words_pp = []\n",
    "\n",
    "for i in 1:length(trimmed)\n",
    "    line = pride_prejudice[i]\n",
    "    char = [j for j in line]\n",
    "    depunced = join(filter!(x -> !(x == '.' || x == ',' || x == ';' || x == '\\u201c' || x == '\\u201d' || x == '?' || x == ':'  || x == '?' || x == '!' || x == '-' || x == '\"' || x == '''), char))\n",
    "    splitted = split(depunced, \" \")\n",
    "    for i in splitted\n",
    "        push!(words_pp, i)\n",
    "    end\n",
    "end"
   ]
  },
  {
   "cell_type": "code",
   "execution_count": 63,
   "metadata": {},
   "outputs": [
    {
     "data": {
      "text/plain": [
       "848-element Vector{Any}:\n",
       " \"It\"\n",
       " \"is\"\n",
       " \"a\"\n",
       " \"truth\"\n",
       " \"universally\"\n",
       " \"acknowledged\"\n",
       " \"that\"\n",
       " \"a\"\n",
       " \"single\"\n",
       " \"man\"\n",
       " \"in\"\n",
       " \"possession\"\n",
       " \"of\"\n",
       " ⋮\n",
       " \"was\"\n",
       " \"to\"\n",
       " \"get\"\n",
       " \"her\"\n",
       " \"daughters\"\n",
       " \"married\"\n",
       " \"its\"\n",
       " \"solace\"\n",
       " \"was\"\n",
       " \"visiting\"\n",
       " \"and\"\n",
       " \"news\""
      ]
     },
     "execution_count": 63,
     "metadata": {},
     "output_type": "execute_result"
    }
   ],
   "source": [
    "words_pp"
   ]
  },
  {
   "cell_type": "markdown",
   "metadata": {},
   "source": [
    "### Picking out a particular word"
   ]
  },
  {
   "cell_type": "code",
   "execution_count": 73,
   "metadata": {},
   "outputs": [
    {
     "data": {
      "text/plain": [
       "4-element Vector{Any}:\n",
       " \"Bingley\"\n",
       " \"Bingley\"\n",
       " \"Bingley\"\n",
       " \"Bingley\""
      ]
     },
     "execution_count": 73,
     "metadata": {},
     "output_type": "execute_result"
    }
   ],
   "source": [
    "filter(x -> x == \"Bingley\", words_pp)"
   ]
  },
  {
   "cell_type": "markdown",
   "metadata": {},
   "source": [
    "### Picking out a phrase"
   ]
  },
  {
   "cell_type": "code",
   "execution_count": 79,
   "metadata": {},
   "outputs": [
    {
     "data": {
      "text/plain": [
       "6"
      ]
     },
     "execution_count": 79,
     "metadata": {},
     "output_type": "execute_result"
    }
   ],
   "source": [
    "count = 0\n",
    "numwords = length(words_pp)\n",
    "for wordnumber in 1:numwords-1\n",
    "    if join(words_pp[wordnumber:wordnumber+1], \" \") == \"Mr Bennet\"\n",
    "        global count += 1\n",
    "    end\n",
    "end\n",
    "count"
   ]
  }
 ],
 "metadata": {
  "kernelspec": {
   "display_name": "Julia 1.7.2",
   "language": "julia",
   "name": "julia-1.7"
  },
  "language_info": {
   "file_extension": ".jl",
   "mimetype": "application/julia",
   "name": "julia",
   "version": "1.7.2"
  },
  "orig_nbformat": 4
 },
 "nbformat": 4,
 "nbformat_minor": 2
}
