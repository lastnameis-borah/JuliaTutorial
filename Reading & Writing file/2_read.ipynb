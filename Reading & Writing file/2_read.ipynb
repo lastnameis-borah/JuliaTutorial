{
 "cells": [
  {
   "cell_type": "markdown",
   "metadata": {},
   "source": [
    "# Reading a file"
   ]
  },
  {
   "cell_type": "markdown",
   "metadata": {},
   "source": [
    "### Open the file"
   ]
  },
  {
   "cell_type": "markdown",
   "metadata": {},
   "source": [
    "To read a file, we don't need to mention read mode (```r```)."
   ]
  },
  {
   "cell_type": "code",
   "execution_count": 16,
   "metadata": {},
   "outputs": [
    {
     "data": {
      "text/plain": [
       "IOStream(<file julia.txt>)"
      ]
     },
     "execution_count": 16,
     "metadata": {},
     "output_type": "execute_result"
    }
   ],
   "source": [
    "file = open(\"julia.txt\")"
   ]
  },
  {
   "cell_type": "markdown",
   "metadata": {},
   "source": [
    "### Read the file"
   ]
  },
  {
   "cell_type": "markdown",
   "metadata": {},
   "source": [
    "It should be mentioned in which type we need to read the file.\n",
    "\n",
    "```read(<file handle>, <type>)```"
   ]
  },
  {
   "cell_type": "code",
   "execution_count": 17,
   "metadata": {},
   "outputs": [
    {
     "data": {
      "text/plain": [
       "\"Julia is so fun to learn.\\nYou should learn it too!\""
      ]
     },
     "execution_count": 17,
     "metadata": {},
     "output_type": "execute_result"
    }
   ],
   "source": [
    "text = read(file, String)"
   ]
  },
  {
   "cell_type": "markdown",
   "metadata": {},
   "source": [
    "It can be seen that the file is read in a single string. \n",
    "\n",
    "So, we can use ```split()``` to split the string at ```\\n``` into seperate lines. "
   ]
  },
  {
   "cell_type": "code",
   "execution_count": 19,
   "metadata": {},
   "outputs": [
    {
     "data": {
      "text/plain": [
       "2-element Vector{SubString{String}}:\n",
       " \"Julia is so fun to learn.\"\n",
       " \"You should learn it too!\""
      ]
     },
     "execution_count": 19,
     "metadata": {},
     "output_type": "execute_result"
    }
   ],
   "source": [
    "split(text, \"\\n\")"
   ]
  },
  {
   "cell_type": "markdown",
   "metadata": {},
   "source": [
    "### Close the file"
   ]
  },
  {
   "cell_type": "code",
   "execution_count": 7,
   "metadata": {},
   "outputs": [],
   "source": [
    "close(file)"
   ]
  },
  {
   "cell_type": "markdown",
   "metadata": {},
   "source": [
    "The bofore mentioned code blocks are cumbersome.\n",
    "\n",
    "Thus, we can use ```readlines()``` and see its magic."
   ]
  },
  {
   "cell_type": "code",
   "execution_count": 21,
   "metadata": {},
   "outputs": [
    {
     "data": {
      "text/plain": [
       "2-element Vector{String}:\n",
       " \"Julia is so fun to learn.\"\n",
       " \"You should learn it too!\""
      ]
     },
     "execution_count": 21,
     "metadata": {},
     "output_type": "execute_result"
    }
   ],
   "source": [
    "file = open(\"julia.txt\")\n",
    "readlines(file)"
   ]
  },
  {
   "cell_type": "markdown",
   "metadata": {},
   "source": [
    "We didn't had to mention the type and also we didn't had to split the string."
   ]
  },
  {
   "cell_type": "code",
   "execution_count": 22,
   "metadata": {},
   "outputs": [],
   "source": [
    "close(file)"
   ]
  },
  {
   "cell_type": "markdown",
   "metadata": {},
   "source": [
    "### Handle empty lines"
   ]
  },
  {
   "cell_type": "code",
   "execution_count": 27,
   "metadata": {},
   "outputs": [
    {
     "data": {
      "text/plain": [
       "67-element Vector{String}:\n",
       " \"It is a truth universally ackno\" ⋯ 55 bytes ⋯ \"une, must be in want of a wife.\"\n",
       " \"\"\n",
       " \"However little known the feelin\" ⋯ 199 bytes ⋯ \"e or other of their daughters.\"\n",
       " \"\"\n",
       " \"“My dear Mr. Bennet,” said his \" ⋯ 46 bytes ⋯ \"therfield Park is let at last?”\"\n",
       " \"\"\n",
       " \"Mr. Bennet replied that he had not.\"\n",
       " \"\"\n",
       " \"“But it is,” returned she; “for\" ⋯ 30 bytes ⋯ \" and she told me all about it.”\"\n",
       " \"\"\n",
       " \"Mr. Bennet made no answer.\"\n",
       " \"\"\n",
       " \"“Do not you want to know who has taken it?” cried his wife impatiently.\"\n",
       " ⋮\n",
       " \"\"\n",
       " \"“You mistake me, my dear. I hav\" ⋯ 107 bytes ⋯ \" these twenty years at least.”\"\n",
       " \"\"\n",
       " \"“Ah, you do not know what I suffer.”\"\n",
       " \"\"\n",
       " \"“But I hope you will get over i\" ⋯ 56 bytes ⋯ \"r come into the neighbourhood.”\"\n",
       " \"\"\n",
       " \"“It will be no use to us, if tw\" ⋯ 23 bytes ⋯ \"since you will not visit them.”\"\n",
       " \"\"\n",
       " \"“Depend upon it, my dear, that when there are twenty, I will visit them all.”\"\n",
       " \"\"\n",
       " \"Mr. Bennet was so odd a mixture\" ⋯ 407 bytes ⋯ \" solace was visiting and news.\""
      ]
     },
     "execution_count": 27,
     "metadata": {},
     "output_type": "execute_result"
    }
   ],
   "source": [
    "file = open(\"p&p.txt\")\n",
    "pride_prejudice = readlines(file)"
   ]
  },
  {
   "cell_type": "code",
   "execution_count": 28,
   "metadata": {},
   "outputs": [
    {
     "data": {
      "text/plain": [
       "34-element Vector{String}:\n",
       " \"It is a truth universally ackno\" ⋯ 55 bytes ⋯ \"une, must be in want of a wife.\"\n",
       " \"However little known the feelin\" ⋯ 199 bytes ⋯ \"e or other of their daughters.\"\n",
       " \"“My dear Mr. Bennet,” said his \" ⋯ 46 bytes ⋯ \"therfield Park is let at last?”\"\n",
       " \"Mr. Bennet replied that he had not.\"\n",
       " \"“But it is,” returned she; “for\" ⋯ 30 bytes ⋯ \" and she told me all about it.”\"\n",
       " \"Mr. Bennet made no answer.\"\n",
       " \"“Do not you want to know who has taken it?” cried his wife impatiently.\"\n",
       " \"“You want to tell me, and I have no objection to hearing it.”\"\n",
       " \"This was invitation enough.\"\n",
       " \"“Why, my dear, you must know, M\" ⋯ 336 bytes ⋯ \"ouse by the end of next week.”\"\n",
       " \"“What is his name?”\"\n",
       " \"“Bingley.”\"\n",
       " \"“Is he married or single?”\"\n",
       " ⋮\n",
       " \"“It is more than I engage for, I assure you.”\"\n",
       " \"“But consider your daughters. O\" ⋯ 237 bytes ⋯ \" to visit him, if you do not.”\"\n",
       " \"“You are over scrupulous, surel\" ⋯ 203 bytes ⋯ \"ood word for my little Lizzy.”\"\n",
       " \"“I desire you will do no such t\" ⋯ 152 bytes ⋯ \"ys giving her the preference.”\"\n",
       " \"“They have none of them much to\" ⋯ 115 bytes ⋯ \"f quickness than her sisters.”\"\n",
       " \"“Mr. Bennet, how can you abuse \" ⋯ 75 bytes ⋯ \" compassion on my poor nerves.”\"\n",
       " \"“You mistake me, my dear. I hav\" ⋯ 107 bytes ⋯ \" these twenty years at least.”\"\n",
       " \"“Ah, you do not know what I suffer.”\"\n",
       " \"“But I hope you will get over i\" ⋯ 56 bytes ⋯ \"r come into the neighbourhood.”\"\n",
       " \"“It will be no use to us, if tw\" ⋯ 23 bytes ⋯ \"since you will not visit them.”\"\n",
       " \"“Depend upon it, my dear, that when there are twenty, I will visit them all.”\"\n",
       " \"Mr. Bennet was so odd a mixture\" ⋯ 407 bytes ⋯ \" solace was visiting and news.\""
      ]
     },
     "execution_count": 28,
     "metadata": {},
     "output_type": "execute_result"
    }
   ],
   "source": [
    "filter!(x -> !(x == \"\"), pride_prejudice)"
   ]
  }
 ],
 "metadata": {
  "kernelspec": {
   "display_name": "Julia 1.7.2",
   "language": "julia",
   "name": "julia-1.7"
  },
  "language_info": {
   "file_extension": ".jl",
   "mimetype": "application/julia",
   "name": "julia",
   "version": "1.7.2"
  },
  "orig_nbformat": 4
 },
 "nbformat": 4,
 "nbformat_minor": 2
}
